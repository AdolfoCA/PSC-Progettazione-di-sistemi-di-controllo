{
 "metadata": {
  "language_info": {
   "codemirror_mode": {
    "name": "ipython",
    "version": 3
   },
   "file_extension": ".py",
   "mimetype": "text/x-python",
   "name": "python",
   "nbconvert_exporter": "python",
   "pygments_lexer": "ipython3",
   "version": "3.9.4"
  },
  "orig_nbformat": 2,
  "kernelspec": {
   "name": "python39464bit472d4eafd96b456c8b13f4d66a94d7a1",
   "display_name": "Python 3.9.4 64-bit",
   "language": "python"
  },
  "metadata": {
   "interpreter": {
    "hash": "10869a27d51d4e8322cc025d647e8017c099539a046d0bd5f71c0c8fc45eaa82"
   }
  }
 },
 "nbformat": 4,
 "nbformat_minor": 2,
 "cells": [
  {
   "source": [
    "Developments\n"
   ],
   "cell_type": "markdown",
   "metadata": {}
  },
  {
   "source": [
    "## Prova code\n"
   ],
   "cell_type": "markdown",
   "metadata": {}
  },
  {
   "source": [
    "print(\"Prova\")"
   ],
   "cell_type": "markdown",
   "metadata": {}
  },
  {
   "cell_type": "code",
   "execution_count": 7,
   "metadata": {},
   "outputs": [
    {
     "output_type": "stream",
     "name": "stdout",
     "text": [
      "ehi ehi ehi ehi ehi ehi ehi ehi ehi ehi\n"
     ]
    }
   ],
   "source": [
    "print(\"ehi ehi ehi ehi ehi ehi ehi ehi ehi ehi\")"
   ]
  }
 ]
}